{
 "cells": [
  {
   "cell_type": "markdown",
   "metadata": {},
   "source": [
    "### Screening process for unique lncRNAs\n",
    "Note: We considered a lncRNA unique only when it showed a consistent overexpression pattern across all samples. The files needed to run the notebooks can be found in the notebooks_files folder."
   ]
  },
  {
   "cell_type": "markdown",
   "metadata": {},
   "source": [
    "[![Open in Google Colab](https://colab.research.google.com/assets/colab-badge.svg)](https://colab.research.google.com/github/yahelGB/M.Sc_thesis/blob/main/notebooks/exclusive_lncRNAs.ipynb)"
   ]
  },
  {
   "cell_type": "code",
   "execution_count": 10,
   "metadata": {},
   "outputs": [],
   "source": [
    "# Import libraries\n",
    "import pandas as pd"
   ]
  },
  {
   "cell_type": "code",
   "execution_count": null,
   "metadata": {},
   "outputs": [],
   "source": [
    "# Load the combined file derived from the DEGs analysis and the list of lncRNAs of interest.\n",
    "df = pd.read_csv(\"/path/to//combined_intersect.txt\", sep=\"\\t\", header=None)\n",
    "lncrna_ids = pd.read_csv(\"/path/to/lncRNA_IDs.txt\", header=None)[0]"
   ]
  },
  {
   "cell_type": "code",
   "execution_count": 12,
   "metadata": {},
   "outputs": [],
   "source": [
    "# Filter the lncRNAs of interes and create a dictionary for each lncRNAs and their patterns\n",
    "df_filtered = pd.merge(df, lncrna_ids.to_frame(), left_on=0, right_on=0, how=\"inner\")\n",
    "id_to_patterns = df_filtered.groupby(df_filtered.columns[0])[df_filtered.columns[-1]].apply(list).to_dict()"
   ]
  },
  {
   "cell_type": "code",
   "execution_count": 13,
   "metadata": {},
   "outputs": [],
   "source": [
    "# We define the specific standards for each sample\n",
    "gills_patterns = {'Down_hemocytes_Up_gills', 'Down_hep_Up_gills', 'Down_muscle_Up_gills'}\n",
    "hemocytes_patterns = {'Up_hemocytes_Down_gills', 'Down_hep_Up_hemocytes', 'Down_muscle_Up_hemocytes'}\n",
    "hep_patterns = {'Up_hep_Down_gills', 'Up_hep_Down_hemocytes', 'Down_muscle_Up_hep'}\n",
    "muscle_patterns = {'Up_muscle_Down_gills', 'Up_muscle_Down_hemocytes', 'Up_muscle_Down_hep'}"
   ]
  },
  {
   "cell_type": "code",
   "execution_count": 14,
   "metadata": {},
   "outputs": [],
   "source": [
    "# Create a dictionary to store the unique patterns for each sample\n",
    "exclusive_patterns = {\n",
    "    \"gills\": [],\n",
    "    \"hemocytes\": [],\n",
    "    \"hep\": [],\n",
    "    \"muscle\": []\n",
    "}\n",
    "\n",
    "# Evaluate unique patterns for each ID\n",
    "for id, patterns in id_to_patterns.items():\n",
    "    # Convert the list of ID patterns into a set for comparisons\n",
    "    pattern_set = set(patterns)\n",
    "\n",
    "    # Assess exclusivity in each sample\n",
    "    if pattern_set.issubset(gills_patterns) and not pattern_set & (hemocytes_patterns | hep_patterns | muscle_patterns):\n",
    "        exclusive_patterns[\"gills\"].append(id)\n",
    "    elif pattern_set.issubset(hemocytes_patterns) and not pattern_set & (gills_patterns | hep_patterns | muscle_patterns):\n",
    "        exclusive_patterns[\"hemocytes\"].append(id)\n",
    "    elif pattern_set.issubset(hep_patterns) and not pattern_set & (gills_patterns | hemocytes_patterns | muscle_patterns):\n",
    "        exclusive_patterns[\"hep\"].append(id)\n",
    "    elif pattern_set.issubset(muscle_patterns) and not pattern_set & (gills_patterns | hemocytes_patterns | hep_patterns):\n",
    "        exclusive_patterns[\"muscle\"].append(id)"
   ]
  },
  {
   "cell_type": "code",
   "execution_count": 15,
   "metadata": {},
   "outputs": [],
   "source": [
    "# Filtering IDs with exactly 3 expression patterns for each sample\n",
    "exclusive_ids_with_3_patterns = {\n",
    "    sample: [id for id in ids if len(id_to_patterns[id]) == 3]\n",
    "    for sample, ids in exclusive_patterns.items()\n",
    "}"
   ]
  },
  {
   "cell_type": "code",
   "execution_count": null,
   "metadata": {},
   "outputs": [],
   "source": [
    "# Save these IDs in separate files\n",
    "for sample, ids in exclusive_ids_with_3_patterns.items():\n",
    "    with open(f\"{sample}_exclusive_ids_with_3_patterns.txt\", \"w\") as file:\n",
    "        for id in ids:\n",
    "            file.write(f\"{id}\\n\")\n",
    "\n",
    "print(\"Files generated for IDs with exactly 3 expression patterns\")"
   ]
  }
 ],
 "metadata": {
  "kernelspec": {
   "display_name": "Python 3",
   "language": "python",
   "name": "python3"
  },
  "language_info": {
   "codemirror_mode": {
    "name": "ipython",
    "version": 3
   },
   "file_extension": ".py",
   "mimetype": "text/x-python",
   "name": "python",
   "nbconvert_exporter": "python",
   "pygments_lexer": "ipython3",
   "version": "3.11.4"
  }
 },
 "nbformat": 4,
 "nbformat_minor": 2
}
